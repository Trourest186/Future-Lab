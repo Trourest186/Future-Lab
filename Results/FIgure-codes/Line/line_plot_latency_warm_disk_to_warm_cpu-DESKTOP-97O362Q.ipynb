{
 "cells": [
  {
   "cell_type": "code",
   "execution_count": 25,
   "metadata": {},
   "outputs": [],
   "source": [
    "import matplotlib.pyplot as plot\n",
    "import csv\n",
    "import numpy as np\n",
    "import random"
   ]
  },
  {
   "cell_type": "code",
   "execution_count": 26,
   "metadata": {},
   "outputs": [],
   "source": [
    "#Warm disk to warm cpu\n",
    "# [1 pod, 2p, 3p, 4p, 5p]\n",
    "# mean\n",
    "mean_time_3G = [] \n",
    "mean_time_4G = [] \n",
    "mean_time_wifi = [] \n",
    "# std\n",
    "std_time_3G = [] \n",
    "std_time_4G = [] \n",
    "std_time_wifi = [] "
   ]
  },
  {
   "cell_type": "code",
   "execution_count": 27,
   "metadata": {},
   "outputs": [],
   "source": [
    "#3G\n",
    "average_time = [] \n",
    "\n",
    "for j in range(1, 11):\n",
    "    file_name = \"../../data/18_7_2023/3G/data/timestamp/jetson/time_arm_pod_1_rep_\"+str(j)+\"_18_7_2023_19h43.csv\"\n",
    "    #PROCESS\n",
    "    time_warm_disk_to_warm_cpu_process = []\n",
    "    with open(file_name, newline='') as csvfile:\n",
    "        spamreader = csv.reader(csvfile, delimiter=',', quotechar='|')\n",
    "        for row in spamreader:\n",
    "            if row[2] == \"warm_disk_to_warm_CPU_process\":\n",
    "                time_warm_disk_to_warm_cpu_process.append(float(row[1]))\n",
    "        average_time.append(time_warm_disk_to_warm_cpu_process[-1]-time_warm_disk_to_warm_cpu_process[0])\n",
    "mean_time_3G.append(np.mean(average_time))\n",
    "std_time_3G.append(np.std(average_time))\n",
    "\n",
    "for i in range(1,6):\n",
    "    for j in range(1, 11):\n",
    "        file_name = \"../data/source_data/3G/data/timestamp/mec/time_x86_pod_\"+str(i)+\"_rep_\"+str(j)+\"_15_7_2023_6h17.csv\"\n",
    "        #PROCESS\n",
    "        time_warm_disk_to_warm_cpu_process = []\n",
    "        with open(file_name, newline='') as csvfile:\n",
    "            spamreader = csv.reader(csvfile, delimiter=',', quotechar='|')\n",
    "            for row in spamreader:\n",
    "                if row[2] == \"warm_disk_to_warm_CPU_process\":\n",
    "                    time_warm_disk_to_warm_cpu_process.append(float(row[1]))\n",
    "            average_time.append(time_warm_disk_to_warm_cpu_process[-1]-time_warm_disk_to_warm_cpu_process[0])\n",
    "    mean_time_3G.append(np.mean(average_time))\n",
    "    std_time_3G.append(np.std(average_time))\n",
    "    "
   ]
  },
  {
   "cell_type": "code",
   "execution_count": 28,
   "metadata": {},
   "outputs": [],
   "source": [
    "#4G\n",
    "average_time = [] \n",
    "\n",
    "for j in range(1, 11):\n",
    "    file_name = \"../data/18_7_2023/4G/data/timestamp/jetson/time_arm_pod_1_rep_\"+str(j)+\"_18_7_2023_12h45.csv\"\n",
    "    #PROCESS\n",
    "    time_warm_disk_to_warm_cpu_process = []\n",
    "    with open(file_name, newline='') as csvfile:\n",
    "        spamreader = csv.reader(csvfile, delimiter=',', quotechar='|')\n",
    "        for row in spamreader:\n",
    "            if row[2] == \"warm_disk_to_warm_CPU_process\":\n",
    "                time_warm_disk_to_warm_cpu_process.append(float(row[1]))\n",
    "        average_time.append(time_warm_disk_to_warm_cpu_process[-1]-time_warm_disk_to_warm_cpu_process[0])\n",
    "mean_time_4G.append(np.mean(average_time))\n",
    "std_time_4G.append(np.std(average_time))\n",
    "\n",
    "\n",
    "\n",
    "for i in range(1,6):\n",
    "    for j in range(1, 11):\n",
    "        file_name = \"../data/source_data/4G/14_7/data/timestamp/mec/time_x86_pod_\"+str(i)+\"_rep_\"+str(j)+\"_13_7_2023_10h44.csv\"\n",
    "        #PROCESS\n",
    "        time_warm_disk_to_warm_cpu_process = []\n",
    "        with open(file_name, newline='') as csvfile:\n",
    "            spamreader = csv.reader(csvfile, delimiter=',', quotechar='|')\n",
    "            for row in spamreader:\n",
    "                if row[2] == \"warm_disk_to_warm_CPU_process\":\n",
    "                    time_warm_disk_to_warm_cpu_process.append(float(row[1]))\n",
    "            average_time.append(time_warm_disk_to_warm_cpu_process[-1]-time_warm_disk_to_warm_cpu_process[0])\n",
    "    mean_time_4G.append(np.mean(average_time))\n",
    "    std_time_4G.append(np.std(average_time))\n",
    "    "
   ]
  },
  {
   "cell_type": "code",
   "execution_count": 29,
   "metadata": {},
   "outputs": [],
   "source": [
    "#wifi\n",
    "average_time = [] \n",
    "\n",
    "for j in range(1, 11):\n",
    "    file_name = \"../data/18_7_2023/wifi/data/timestamp/jetson/time_arm_pod_1_rep_\"+str(j)+\"_18_7_2023_8h55.csv\"\n",
    "    #PROCESS\n",
    "    time_warm_disk_to_warm_cpu_process = []\n",
    "    with open(file_name, newline='') as csvfile:\n",
    "        spamreader = csv.reader(csvfile, delimiter=',', quotechar='|')\n",
    "        for row in spamreader:\n",
    "            if row[2] == \"warm_disk_to_warm_CPU_process\":\n",
    "                time_warm_disk_to_warm_cpu_process.append(float(row[1]))\n",
    "        average_time.append(time_warm_disk_to_warm_cpu_process[-1]-time_warm_disk_to_warm_cpu_process[0])\n",
    "mean_time_wifi.append(np.mean(average_time))\n",
    "std_time_wifi.append(np.std(average_time))\n",
    "\n",
    "\n",
    "for i in range(1,6):\n",
    "    for j in range(1, 11):\n",
    "        file_name = \"../data/source_data/wifi/data/timestamp/mec/time_x86_pod_\"+str(i)+\"_rep_\"+str(j)+\"_12_7_2023_12h48.csv\"\n",
    "        #PROCESS\n",
    "        time_warm_disk_to_warm_cpu_process = []\n",
    "        with open(file_name, newline='') as csvfile:\n",
    "            spamreader = csv.reader(csvfile, delimiter=',', quotechar='|')\n",
    "            for row in spamreader:\n",
    "                if row[2] == \"warm_disk_to_warm_CPU_process\":\n",
    "                    time_warm_disk_to_warm_cpu_process.append(float(row[1]))\n",
    "            average_time.append(time_warm_disk_to_warm_cpu_process[-1]-time_warm_disk_to_warm_cpu_process[0])\n",
    "    mean_time_wifi.append(np.mean(average_time))\n",
    "    std_time_wifi.append(np.std(average_time))\n",
    "    "
   ]
  },
  {
   "cell_type": "code",
   "execution_count": 36,
   "metadata": {},
   "outputs": [
    {
     "data": {
      "image/png": "[encoded data removed]",
      "text/plain": [
       "<Figure size 640x480 with 1 Axes>"
      ]
     },
     "metadata": {},
     "output_type": "display_data"
    }
   ],
   "source": [
    "# data\n",
    "data_time_3G = mean_time_3G\n",
    "data_time_4G = mean_time_4G\n",
    "data_time_wifi = mean_time_wifi\n",
    "\n",
    "error_time_3G = std_time_3G\n",
    "error_time_4G = std_time_4G\n",
    "error_time_wifi = std_time_wifi\n",
    "\n",
    "pod = ['1 pod edge', '1 pod', '2 pod', '3 pod', '4 pod', '5 pod']\n",
    "\n",
    "plot.errorbar(pod, data_time_3G, color = 'r', label = '3G', yerr=error_time_3G, alpha=0.9, ecolor='black' )\n",
    "plot.errorbar(pod, data_time_4G, color = 'g', label = '4G', yerr=error_time_4G, alpha=0.9, ecolor='black')\n",
    "plot.errorbar(pod, data_time_wifi, color = 'b', label = 'wifi', yerr=error_time_wifi, alpha=0.9, ecolor='black')\n",
    "\n",
    "# plot.plot(pod, data_time_3G, color = 'r', label = '3G' )\n",
    "# plot.plot(pod, data_time_4G, color = 'g', label = '4G')\n",
    "# plot.plot(pod, data_time_wifi, color = 'b', label = 'wifi')\n",
    "\n",
    "plot.ylabel('time')\n",
    "\n",
    "plot.legend()\n",
    "plot.show()"
   ]
  }
 ],
 "metadata": {
  "kernelspec": {
   "display_name": "Python 3",
   "language": "python",
   "name": "python3"
  },
  "language_info": {
   "codemirror_mode": {
    "name": "ipython",
    "version": 3
   },
   "file_extension": ".py",
   "mimetype": "text/x-python",
   "name": "python",
   "nbconvert_exporter": "python",
   "pygments_lexer": "ipython3",
   "version": "3.10.11"
  },
  "orig_nbformat": 4
 },
 "nbformat": 4,
 "nbformat_minor": 2
}
